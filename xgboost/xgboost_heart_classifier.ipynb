{
  "nbformat": 4,
  "nbformat_minor": 0,
  "metadata": {
    "colab": {
      "provenance": []
    },
    "kernelspec": {
      "name": "python3",
      "display_name": "Python 3"
    },
    "language_info": {
      "name": "python"
    }
  },
  "cells": [
    {
      "cell_type": "markdown",
      "source": [
        "# Import Libraries\n"
      ],
      "metadata": {
        "id": "_mVSMdeJyLNp"
      }
    },
    {
      "cell_type": "code",
      "source": [
        "import pandas as pd\n",
        "from sklearn.model_selection import train_test_split\n",
        "from sklearn.metrics import accuracy_score\n",
        "from xgboost import XGBClassifier\n",
        "from sklearn.datasets import fetch_openml"
      ],
      "metadata": {
        "id": "ipBXdpicyKCe"
      },
      "execution_count": 1,
      "outputs": []
    },
    {
      "cell_type": "markdown",
      "source": [
        "# Load the heart disease dataset using fetch_openml\n"
      ],
      "metadata": {
        "id": "YvhWodr3yhzJ"
      }
    },
    {
      "cell_type": "code",
      "source": [
        "# Load the heart disease dataset using fetch_openml\n",
        "heart_data = fetch_openml(name='heart', version=1, as_frame=False)\n",
        "\n"
      ],
      "metadata": {
        "id": "kgyWYzLIy93x"
      },
      "execution_count": 5,
      "outputs": []
    },
    {
      "cell_type": "code",
      "source": [
        "# Check the shape of the data and target\n",
        "print(f\"Shape of data: {heart_data.data.shape}\")\n",
        "print(f\"Shape of target: {heart_data.target.shape}\")\n"
      ],
      "metadata": {
        "colab": {
          "base_uri": "https://localhost:8080/"
        },
        "id": "YMzyfen9zrwf",
        "outputId": "196e79e0-799c-4365-d173-18bb2e66e38c"
      },
      "execution_count": 6,
      "outputs": [
        {
          "output_type": "stream",
          "name": "stdout",
          "text": [
            "Shape of data: (270, 13)\n",
            "Shape of target: (270,)\n"
          ]
        }
      ]
    },
    {
      "cell_type": "code",
      "source": [
        "print(f\"Number of columns in data: {heart_data.data.shape[1]}\")\n",
        "print(f\"Number of feature names: {len(heart_data.feature_names)}\")\n"
      ],
      "metadata": {
        "colab": {
          "base_uri": "https://localhost:8080/"
        },
        "id": "ZOTsqVRf0fD1",
        "outputId": "d7bac021-62a1-42d0-f452-7a1833dbed27"
      },
      "execution_count": 8,
      "outputs": [
        {
          "output_type": "stream",
          "name": "stdout",
          "text": [
            "Number of columns in data: 13\n",
            "Number of feature names: 13\n"
          ]
        }
      ]
    },
    {
      "cell_type": "code",
      "source": [
        "print(f\"Data shape: {heart_data.data.shape}\")\n",
        "print(f\"Feature names: {heart_data.feature_names}\")\n",
        "print(f\"First row of data: {heart_data.data[0]}\")\n",
        "print(f\"Data type: {type(heart_data.data)}\")\n"
      ],
      "metadata": {
        "colab": {
          "base_uri": "https://localhost:8080/"
        },
        "id": "nMnH6rvQ06bS",
        "outputId": "c8a14130-46b4-4cfb-de87-f5138384486c"
      },
      "execution_count": 9,
      "outputs": [
        {
          "output_type": "stream",
          "name": "stdout",
          "text": [
            "Data shape: (270, 13)\n",
            "Feature names: ['att_1', 'att_2', 'att_3', 'att_4', 'att_5', 'att_6', 'att_7', 'att_8', 'att_9', 'att_10', 'att_11', 'att_12', 'att_13']\n",
            "First row of data:   (0, 0)\t0.708333\n",
            "  (0, 1)\t1.0\n",
            "  (0, 2)\t1.0\n",
            "  (0, 3)\t-0.320755\n",
            "  (0, 4)\t-0.105023\n",
            "  (0, 5)\t-1.0\n",
            "  (0, 6)\t1.0\n",
            "  (0, 7)\t-0.419847\n",
            "  (0, 8)\t-1.0\n",
            "  (0, 9)\t-0.225806\n",
            "  (0, 11)\t1.0\n",
            "  (0, 12)\t-1.0\n",
            "Data type: <class 'scipy.sparse._csr.csr_matrix'>\n"
          ]
        }
      ]
    },
    {
      "cell_type": "markdown",
      "source": [
        "# Splitting Data into Features (X) and Target (y)\n"
      ],
      "metadata": {
        "id": "l4I00OkKygW5"
      }
    },
    {
      "cell_type": "code",
      "source": [
        "X = heart_data.data\n",
        "y = heart_data.target\n",
        "y = (y + 1) / 2"
      ],
      "metadata": {
        "id": "RJRf128JyPb4"
      },
      "execution_count": 10,
      "outputs": []
    },
    {
      "cell_type": "markdown",
      "source": [
        "# Splitting Data into Training and Testing Sets\n"
      ],
      "metadata": {
        "id": "8Nif8EyJyfLY"
      }
    },
    {
      "cell_type": "code",
      "source": [
        "X_train, X_test, y_train, y_test = train_test_split(\n",
        "    X, y, test_size=0.2, random_state=42\n",
        ")"
      ],
      "metadata": {
        "id": "-u4hYIzJyT9q"
      },
      "execution_count": 11,
      "outputs": []
    },
    {
      "cell_type": "markdown",
      "source": [
        "# Defining Hyperparameters\n"
      ],
      "metadata": {
        "id": "1Il_YINcydp9"
      }
    },
    {
      "cell_type": "code",
      "source": [
        "learning_rates = [0.01, 0.1]\n",
        "max_depths = [3, 6]\n",
        "n_estimators_list = [50, 100]"
      ],
      "metadata": {
        "id": "iRceRXMNyVwx"
      },
      "execution_count": 12,
      "outputs": []
    },
    {
      "cell_type": "markdown",
      "source": [
        "# Model Evaluation Loop"
      ],
      "metadata": {
        "id": "ET7gXGp4ycLY"
      }
    },
    {
      "cell_type": "code",
      "source": [
        "results = []\n",
        "\n",
        "for rate_learning in learning_rates:\n",
        "    for depth_max in max_depths:\n",
        "        for estimators_n in n_estimators_list:\n",
        "            # Create XGBoost model\n",
        "            model = XGBClassifier(\n",
        "                learning_rate=rate_learning,\n",
        "                max_depth=depth_max,\n",
        "                n_estimators=estimators_n,\n",
        "                random_state=42\n",
        "            )\n",
        "\n",
        "            # Train the model\n",
        "            model.fit(X_train, y_train)\n",
        "\n",
        "            # Predictions on training and testing sets\n",
        "            y_train_pred = model.predict(X_train)\n",
        "            y_test_pred = model.predict(X_test)\n",
        "\n",
        "            # Calculate accuracy for training and testing sets\n",
        "            train_accuracy = accuracy_score(y_train, y_train_pred)\n",
        "            test_accuracy = accuracy_score(y_test, y_test_pred)\n",
        "\n",
        "            # Save results\n",
        "            results.append({\n",
        "                'learning_rate': rate_learning,\n",
        "                'max_depth': depth_max,\n",
        "                'n_estimators': estimators_n,\n",
        "                'train_accuracy': train_accuracy,\n",
        "                'test_accuracy': test_accuracy\n",
        "            })\n"
      ],
      "metadata": {
        "id": "GtKordL8yZ9V"
      },
      "execution_count": 13,
      "outputs": []
    },
    {
      "cell_type": "markdown",
      "source": [
        "# Displaying Results\n"
      ],
      "metadata": {
        "id": "9cyyI6M0ynlI"
      }
    },
    {
      "cell_type": "code",
      "execution_count": 14,
      "metadata": {
        "colab": {
          "base_uri": "https://localhost:8080/"
        },
        "id": "fExjiJVVxtqn",
        "outputId": "1d559dd6-4803-49e5-d6a6-839d281bca6d"
      },
      "outputs": [
        {
          "output_type": "stream",
          "name": "stdout",
          "text": [
            "   learning_rate  max_depth  n_estimators  train_accuracy  test_accuracy\n",
            "0           0.01          3            50        0.861111       0.759259\n",
            "1           0.01          3           100        0.898148       0.777778\n",
            "2           0.01          6            50        0.907407       0.777778\n",
            "3           0.01          6           100        0.958333       0.740741\n",
            "4           0.10          3            50        0.953704       0.870370\n",
            "5           0.10          3           100        0.976852       0.888889\n",
            "6           0.10          6            50        0.995370       0.851852\n",
            "7           0.10          6           100        1.000000       0.851852\n"
          ]
        }
      ],
      "source": [
        "result_df = pd.DataFrame(results)\n",
        "print(result_df)\n"
      ]
    }
  ]
}